{
  "cells": [
    {
      "cell_type": "markdown",
      "metadata": {
        "id": "g7Ic1xc9rimg"
      },
      "source": [
        "Implement a transformer architecture and improve and analyze it's arous aspects rather than focus on a particular paper\n",
        "\n",
        "Use percentage changes as data source instead of prices\n",
        "\n",
        "If we make a predictor which just guesses next day's price as the same as today’s price, it would have better than 95% accuracy. \n",
        "\n",
        "Guessing whether next day price will go up or down i.e. as a classification problem."
      ]
    },
    {
      "cell_type": "code",
      "execution_count": 1,
      "metadata": {
        "pycharm": {
          "name": "#%%\n"
        },
        "colab": {
          "base_uri": "https://localhost:8080/"
        },
        "id": "kEwuEgTyI7Bf",
        "outputId": "722e3d99-1c48-4e3f-e8ed-816460ee8d7e"
      },
      "outputs": [
        {
          "output_type": "stream",
          "name": "stdout",
          "text": [
            "Drive already mounted at /content/drive; to attempt to forcibly remount, call drive.mount(\"/content/drive\", force_remount=True).\n",
            "/content/drive/MyDrive/CS7643 Final Project\n"
          ]
        }
      ],
      "source": [
        "from google.colab import drive\n",
        "import numpy as np\n",
        "import pandas as pd\n",
        "drive.mount(\"/content/drive\")\n",
        "%cd '/content/drive/MyDrive/CS7643 Final Project/'  "
      ]
    },
    {
      "cell_type": "code",
      "source": [
        "from data.get_dataset import GetDataset, StockData\n",
        "\n",
        "FAKE_DATA=True\n",
        "REPEAT_ONE_SMALL_BATCH=True\n",
        "USE_TRANSFORMER=False\n",
        "NUM_DAYS=1\n",
        "\n",
        "csv = './data/SPXDailyData.csv'\n",
        "df = GetDataset(csv)\n",
        "dataset = df.get_data()\n",
        "if REPEAT_ONE_SMALL_BATCH:\n",
        "  dataset = dataset[0:10]\n",
        "  if FAKE_DATA:\n",
        "    dataset[:][0:5]=.6\n",
        "    dataset[:][5:]=.4\n",
        "    dataset['Next_Day_Change'][0:5]=0\n",
        "    dataset['Next_Day_Change'][5:]=1\n",
        "\n",
        "#split into 3\n",
        "valid_frac, test_frac = 0.2, 0.2\n",
        "train_sz=int(dataset.shape[0]*(1-(valid_frac+test_frac)))\n",
        "valid_sz=int(dataset.shape[0]*(valid_frac))\n",
        "df_train = dataset[               0:train_sz]\n",
        "df_valid = dataset[        train_sz:train_sz+valid_sz]\n",
        "df_test = dataset[train_sz+valid_sz:]\n",
        "\n",
        "#convert to sequence data and make dataset\n",
        "train_dataset = StockData(df_train.to_numpy(), num_days=NUM_DAYS)\n",
        "valid_dataset = StockData(df_valid.to_numpy(), num_days=NUM_DAYS) \n",
        "test_dataset = StockData(df_test.to_numpy(), num_days=NUM_DAYS) \n"
      ],
      "metadata": {
        "colab": {
          "base_uri": "https://localhost:8080/"
        },
        "id": "rbH2c1ucncAo",
        "outputId": "14cf7d42-b07b-408b-a00e-9982eadb76c8"
      },
      "execution_count": 2,
      "outputs": [
        {
          "output_type": "stream",
          "name": "stderr",
          "text": [
            "/content/drive/MyDrive/CS7643 Final Project/data/get_dataset.py:40: FutureWarning: In a future version of pandas all arguments of DataFrame.drop except for the argument 'labels' will be keyword-only\n",
            "  self.df.drop('Symbol', 1, inplace=True)\n",
            "/usr/local/lib/python3.7/dist-packages/ipykernel_launcher.py:16: SettingWithCopyWarning: \n",
            "A value is trying to be set on a copy of a slice from a DataFrame\n",
            "\n",
            "See the caveats in the documentation: https://pandas.pydata.org/pandas-docs/stable/user_guide/indexing.html#returning-a-view-versus-a-copy\n",
            "  app.launch_new_instance()\n",
            "/usr/local/lib/python3.7/dist-packages/pandas/core/series.py:1105: SettingWithCopyWarning: \n",
            "A value is trying to be set on a copy of a slice from a DataFrame\n",
            "\n",
            "See the caveats in the documentation: https://pandas.pydata.org/pandas-docs/stable/user_guide/indexing.html#returning-a-view-versus-a-copy\n",
            "  return self._set_values(indexer, value)\n",
            "/usr/local/lib/python3.7/dist-packages/ipykernel_launcher.py:17: SettingWithCopyWarning: \n",
            "A value is trying to be set on a copy of a slice from a DataFrame\n",
            "\n",
            "See the caveats in the documentation: https://pandas.pydata.org/pandas-docs/stable/user_guide/indexing.html#returning-a-view-versus-a-copy\n"
          ]
        }
      ]
    },
    {
      "cell_type": "code",
      "source": [
        "print(train_dataset[:][0].shape)\n",
        "print(train_dataset.num_samples)\n",
        "print(dataset)\n",
        "print(train_dataset[:])"
      ],
      "metadata": {
        "colab": {
          "base_uri": "https://localhost:8080/"
        },
        "id": "DpBItwrOd6um",
        "outputId": "54e9387d-07cc-4169-a5bd-114101971012"
      },
      "execution_count": 3,
      "outputs": [
        {
          "output_type": "stream",
          "name": "stdout",
          "text": [
            "torch.Size([6, 1, 4])\n",
            "6\n",
            "    Open  High  Low  Close  Next_Day_Change\n",
            "1    0.6   0.6  0.6    0.6                0\n",
            "2    0.6   0.6  0.6    0.6                0\n",
            "3    0.6   0.6  0.6    0.6                0\n",
            "4    0.6   0.6  0.6    0.6                0\n",
            "5    0.6   0.6  0.6    0.6                0\n",
            "6    0.4   0.4  0.4    0.4                1\n",
            "7    0.4   0.4  0.4    0.4                1\n",
            "8    0.4   0.4  0.4    0.4                1\n",
            "9    0.4   0.4  0.4    0.4                1\n",
            "10   0.4   0.4  0.4    0.4                1\n",
            "(tensor([[[0.6000, 0.6000, 0.6000, 0.6000]],\n",
            "\n",
            "        [[0.6000, 0.6000, 0.6000, 0.6000]],\n",
            "\n",
            "        [[0.6000, 0.6000, 0.6000, 0.6000]],\n",
            "\n",
            "        [[0.6000, 0.6000, 0.6000, 0.6000]],\n",
            "\n",
            "        [[0.6000, 0.6000, 0.6000, 0.6000]],\n",
            "\n",
            "        [[0.4000, 0.4000, 0.4000, 0.4000]]], dtype=torch.float64), tensor([[0],\n",
            "        [0],\n",
            "        [0],\n",
            "        [0],\n",
            "        [0],\n",
            "        [1]]))\n"
          ]
        }
      ]
    },
    {
      "cell_type": "code",
      "execution_count": 4,
      "outputs": [],
      "source": [
        "from models.my_transformer import TransformerModelImpl\n",
        "from torch.utils.data import DataLoader\n",
        "class hyperparameters:\n",
        "    n_layers = 1\n",
        "    num_heads = 1\n",
        "    model_dim = 4\n",
        "    forward_dim = 16\n",
        "    output_dim = 1\n",
        "    dropout = 3e-4\n",
        "    n_epochs = 100\n",
        "    lr = 0.1 if USE_TRANSFORMER else 0.01\n",
        "    batch_size = 1024\n",
        "\n",
        "modelT = TransformerModelImpl(hyperparameters)\n",
        "train_loader = DataLoader(train_dataset, batch_size=train_dataset.num_samples if REPEAT_ONE_SMALL_BATCH else hyperparameters.batch_size, shuffle=False)#todo while debuggin set to false\n",
        "valid_loader = DataLoader(valid_dataset, batch_size=valid_dataset.num_samples if REPEAT_ONE_SMALL_BATCH else hyperparameters.batch_size, shuffle=False)#todo while debuggin set to false"
      ],
      "metadata": {
        "pycharm": {
          "name": "#%%\n"
        },
        "id": "aROsQr4KI7B5"
      }
    },
    {
      "cell_type": "code",
      "source": [
        "from torch import nn\n",
        "from torch.nn import functional as F\n",
        "class FCNet(nn.Module):\n",
        "  def __init__(self,in_shape):\n",
        "    super(FCNet,self).__init__()\n",
        "    self.fc_layer1 = nn.Linear(in_shape,in_shape*4)\n",
        "    self.fc_layer2 = nn.Linear(in_shape*4,in_shape*8)\n",
        "    self.fc_layer3 = nn.Linear(in_shape*8,1)\n",
        "  def forward(self,x):\n",
        "    x = torch.flatten(x,start_dim=1)\n",
        "    x = torch.relu(self.fc_layer1(x))\n",
        "    x = torch.relu(self.fc_layer2(x))\n",
        "    x = self.fc_layer3(x)\n",
        "    return x.reshape(x.shape[0],-1)\n",
        "print(train_dataset[:][0].shape[2])\n",
        "modelFC = FCNet((train_dataset[:][0].shape[2])*NUM_DAYS)"
      ],
      "metadata": {
        "colab": {
          "base_uri": "https://localhost:8080/"
        },
        "id": "9WfThZnHDyk3",
        "outputId": "1d960d53-cd67-4adb-cbd2-8349474d5f77"
      },
      "execution_count": 5,
      "outputs": [
        {
          "output_type": "stream",
          "name": "stdout",
          "text": [
            "4\n"
          ]
        }
      ]
    },
    {
      "cell_type": "markdown",
      "source": [
        "## Training"
      ],
      "metadata": {
        "collapsed": false,
        "pycharm": {
          "name": "#%% md\n"
        },
        "id": "3q-ItwbSI7B5"
      }
    },
    {
      "cell_type": "code",
      "execution_count": 6,
      "outputs": [
        {
          "output_type": "stream",
          "name": "stdout",
          "text": [
            "Epoch 2: Training Loss: 0.6411. Training Acc: 0.7576. Validation Loss: 0.7993. Validation Acc: 0.0000.\n",
            "Epoch 52: Training Loss: 0.2543. Training Acc: 0.7576. Validation Loss: 1.0069. Validation Acc: 0.0000.\n"
          ]
        },
        {
          "output_type": "display_data",
          "data": {
            "text/plain": [
              "<Figure size 432x288 with 1 Axes>"
            ],
            "image/png": "[encoded data removed]"
          },
          "metadata": {
            "needs_background": "light"
          }
        },
        {
          "output_type": "display_data",
          "data": {
            "text/plain": [
              "<Figure size 432x288 with 1 Axes>"
            ],
            "image/png": "[encoded data removed]"
          },
          "metadata": {
            "needs_background": "light"
          }
        }
      ],
      "source": [
        "from utils import plot_curves\n",
        "from utils import train\n",
        "from utils import evaluate\n",
        "import torch\n",
        "from sklearn.exceptions import UndefinedMetricWarning\n",
        "\n",
        "def warn(*args, **kwargs):\n",
        "    pass\n",
        "import warnings\n",
        "warnings.warn = warn\n",
        "\n",
        "model = modelT if USE_TRANSFORMER else modelFC\n",
        "criterion = torch.nn.BCEWithLogitsLoss(reduction='mean')\n",
        "optimizer = torch.optim.Adam(model.parameters(), lr=hyperparameters.lr)\n",
        "#scheduler = torch.optim.lr_scheduler.ReduceLROnPlateau(optimizer)\n",
        "#scheduler = torch.optim.lr_scheduler.StepLR(optimizer, step_size=30, gamma=1)#constant\n",
        "scheduler = torch.optim.lr_scheduler.StepLR(optimizer, step_size=10, gamma=0.9)\n",
        "#scheduler = torch.optim.lr_scheduler.ExponentialLR(optimizer, gamma=0.9)\n",
        "\n",
        "avg_train_loss,avg_train_acc,avg_valid_loss,avg_valid_acc=[],[],[],[]\n",
        "model.float()\n",
        "for epoch in range(hyperparameters.n_epochs):\n",
        "    train_loss, atl, ata = train(model, train_loader, optimizer, criterion)\n",
        "    scheduler.step(train_loss)\n",
        "    _, avl, ava = evaluate(model, valid_loader, criterion)\n",
        "    if epoch%50==1:\n",
        "      print(\"Epoch %d: Training Loss: %.4f. Training Acc: %.4f. Validation Loss: %.4f. Validation Acc: %.4f.\" % (epoch+1, atl, ata, avl, ava))\n",
        "    avg_train_loss.append(atl.item())\n",
        "    avg_train_acc.append(ata)\n",
        "    avg_valid_loss.append(avl.item())\n",
        "    avg_valid_acc.append(ava)\n",
        "plot_curves(avg_train_loss,avg_train_acc,avg_valid_loss,avg_valid_acc, info='', save=False)   \n",
        " "
      ],
      "metadata": {
        "pycharm": {
          "name": "#%%\n"
        },
        "colab": {
          "base_uri": "https://localhost:8080/",
          "height": 607
        },
        "id": "vBC0IgBjI7B6",
        "outputId": "8c38a894-85de-46e4-f9e1-eda9d7065331"
      }
    },
    {
      "cell_type": "code",
      "source": [
        "\n",
        "a,b=train_dataset[:]\n",
        "print(a.shape)\n",
        "print(b.shape)\n",
        "print(b)"
      ],
      "metadata": {
        "colab": {
          "base_uri": "https://localhost:8080/"
        },
        "id": "70Dz7C-d0UI7",
        "outputId": "f6c5addd-3017-4353-82a0-6d7a0882f06d"
      },
      "execution_count": 7,
      "outputs": [
        {
          "output_type": "stream",
          "name": "stdout",
          "text": [
            "torch.Size([6, 1, 4])\n",
            "torch.Size([6, 1])\n",
            "tensor([[0],\n",
            "        [0],\n",
            "        [0],\n",
            "        [0],\n",
            "        [0],\n",
            "        [1]])\n"
          ]
        }
      ]
    },
    {
      "cell_type": "markdown",
      "source": [
        "## Validating Predictions"
      ],
      "metadata": {
        "collapsed": false,
        "pycharm": {
          "name": "#%% md\n"
        },
        "id": "wtrEo-8NI7B6"
      }
    },
    {
      "cell_type": "code",
      "execution_count": 8,
      "outputs": [
        {
          "output_type": "stream",
          "name": "stdout",
          "text": [
            "1.0\n"
          ]
        }
      ],
      "source": [
        "from sklearn.metrics import f1_score\n",
        "from sklearn.metrics import classification_report\n",
        "model.eval()\n",
        "features, targets = test_dataset[:]\n",
        "predictions = model(features.float())\n",
        "pred=torch.round(torch.sigmoid(predictions)).long()\n",
        "print(classification_report(targets.detach().numpy(), pred.detach().numpy(), output_dict=True)['weighted avg']['f1-score'])"
      ],
      "metadata": {
        "pycharm": {
          "name": "#%%\n"
        },
        "id": "ex-TS46DI7B6",
        "colab": {
          "base_uri": "https://localhost:8080/"
        },
        "outputId": "6d0c22ff-5eca-40bf-9eac-6e5b5beebb18"
      }
    },
    {
      "cell_type": "markdown",
      "source": [
        "## TODO"
      ],
      "metadata": {
        "collapsed": false,
        "pycharm": {
          "name": "#%% md\n"
        },
        "id": "tcX2mjMMI7B8"
      }
    },
    {
      "cell_type": "code",
      "execution_count": 9,
      "outputs": [],
      "source": [
        "# 1. Review/Fix Transformer Implementation\n",
        "# 2. Review/Fix Training and Testing\n",
        "# 3. Review/Fix Predictions with Tensors\n",
        "# 4. Implement Accuracy\n",
        "# 5. Implement Charting\n",
        "# 6. Experimentation"
      ],
      "metadata": {
        "pycharm": {
          "name": "#%%\n"
        },
        "id": "V-sBVVEII7B8"
      }
    }
  ],
  "metadata": {
    "colab": {
      "collapsed_sections": [],
      "name": "exp1.ipynb",
      "provenance": [],
      "machine_shape": "hm"
    },
    "kernelspec": {
      "display_name": "Python 3 (ipykernel)",
      "language": "python",
      "name": "python3"
    },
    "language_info": {
      "codemirror_mode": {
        "name": "ipython",
        "version": 3
      },
      "file_extension": ".py",
      "mimetype": "text/x-python",
      "name": "python",
      "nbconvert_exporter": "python",
      "pygments_lexer": "ipython3",
      "version": "3.9.5"
    },
    "accelerator": "GPU"
  },
  "nbformat": 4,
  "nbformat_minor": 0
}