{
  "cells": [
    {
      "cell_type": "markdown",
      "metadata": {
        "id": "g7Ic1xc9rimg"
      },
      "source": [
        "Implement a transformer architecture and improve and analyze it's arous aspects rather than focus on a particular paper\n",
        "\n",
        "Use percentage changes as data source instead of prices\n",
        "\n",
        "If we make a predictor which just guesses next day's price as the same as today’s price, it would have better than 95% accuracy. \n",
        "\n",
        "Guessing whether next day price will go up or down i.e. as a classification problem."
      ]
    },
    {
      "cell_type": "code",
      "execution_count": 1,
      "metadata": {
        "pycharm": {
          "name": "#%%\n"
        },
        "colab": {
          "base_uri": "https://localhost:8080/"
        },
        "id": "kEwuEgTyI7Bf",
        "outputId": "1e83dd77-fe2b-4ba1-c883-cea4262c6bce"
      },
      "outputs": [
        {
          "output_type": "stream",
          "name": "stdout",
          "text": [
            "Drive already mounted at /content/drive; to attempt to forcibly remount, call drive.mount(\"/content/drive\", force_remount=True).\n",
            "/content/drive/MyDrive/CS7643 Final Project\n"
          ]
        }
      ],
      "source": [
        "from google.colab import drive\n",
        "import numpy as np\n",
        "import pandas as pd\n",
        "drive.mount(\"/content/drive\")\n",
        "%cd '/content/drive/MyDrive/CS7643 Final Project/'  "
      ]
    },
    {
      "cell_type": "code",
      "source": [
        "from data.get_dataset import GetDataset, StockData\n",
        "\n",
        "FAKE_DATA=False\n",
        "REPEAT_ONE_SMALL_BATCH=False\n",
        "USE_TRANSFORMER=True\n",
        "NUM_DAYS=2\n",
        "\n",
        "csv = './data/SPXDailyData.csv'\n",
        "df = GetDataset(csv)\n",
        "dataset = df.get_data()\n",
        "if REPEAT_ONE_SMALL_BATCH:\n",
        "  dataset = dataset[0:10]\n",
        "  if FAKE_DATA:\n",
        "    dataset[:][0:5]=.6\n",
        "    dataset[:][5:]=.4\n",
        "    dataset['Next_Day_Change'][0:5]=0\n",
        "    dataset['Next_Day_Change'][5:]=1\n",
        "\n",
        "#split into 3\n",
        "valid_frac, test_frac = 0.2, 0.2\n",
        "train_sz=int(dataset.shape[0]*(1-(valid_frac+test_frac)))\n",
        "valid_sz=int(dataset.shape[0]*(valid_frac))\n",
        "df_train = dataset[               0:train_sz]\n",
        "df_valid = dataset[        train_sz:train_sz+valid_sz]\n",
        "df_test = dataset[train_sz+valid_sz:]\n",
        "\n",
        "#convert to sequence data and make dataset\n",
        "train_dataset = StockData(df_train.to_numpy(), num_days=NUM_DAYS)\n",
        "valid_dataset = StockData(df_valid.to_numpy(), num_days=NUM_DAYS) \n",
        "test_dataset = StockData(df_test.to_numpy(), num_days=NUM_DAYS) \n"
      ],
      "metadata": {
        "colab": {
          "base_uri": "https://localhost:8080/"
        },
        "id": "rbH2c1ucncAo",
        "outputId": "8c7067ae-d319-4ae1-df9d-ecd965f694de"
      },
      "execution_count": 2,
      "outputs": [
        {
          "output_type": "stream",
          "name": "stderr",
          "text": [
            "/content/drive/MyDrive/CS7643 Final Project/data/get_dataset.py:40: FutureWarning: In a future version of pandas all arguments of DataFrame.drop except for the argument 'labels' will be keyword-only\n",
            "  self.df.drop('Symbol', 1, inplace=True)\n"
          ]
        }
      ]
    },
    {
      "cell_type": "code",
      "source": [
        "print(train_dataset[:][0].shape)\n",
        "print(train_dataset.num_samples)\n",
        "print(dataset)\n",
        "print(train_dataset[:])"
      ],
      "metadata": {
        "colab": {
          "base_uri": "https://localhost:8080/"
        },
        "id": "DpBItwrOd6um",
        "outputId": "2fc8e32e-51db-4f6f-c4e5-143012a60a7f"
      },
      "execution_count": 3,
      "outputs": [
        {
          "output_type": "stream",
          "name": "stdout",
          "text": [
            "torch.Size([14090, 2, 4])\n",
            "14090\n",
            "           Open      High       Low     Close  Next_Day_Change\n",
            "1      0.526143  0.408969  0.521890  0.526143                1\n",
            "2      0.568924  0.462328  0.565055  0.568924                0\n",
            "3      0.527583  0.410765  0.523342  0.527583                0\n",
            "4      0.531983  0.416253  0.527782  0.531983                0\n",
            "5      0.548913  0.437370  0.544864  0.548913                1\n",
            "...         ...       ...       ...       ...              ...\n",
            "23482  0.615969  0.510438  0.589644  0.612391                1\n",
            "23483  0.587851  0.482741  0.601541  0.585322                1\n",
            "23484  0.590646  0.481443  0.582469  0.583473                0\n",
            "23485  0.585713  0.453561  0.568904  0.550846                1\n",
            "23486  0.556068  0.471455  0.575554  0.582507                0\n",
            "\n",
            "[23486 rows x 5 columns]\n",
            "(tensor([[[0.5261, 0.4090, 0.5219, 0.5261],\n",
            "         [0.5689, 0.4623, 0.5651, 0.5689]],\n",
            "\n",
            "        [[0.5689, 0.4623, 0.5651, 0.5689],\n",
            "         [0.5276, 0.4108, 0.5233, 0.5276]],\n",
            "\n",
            "        [[0.5276, 0.4108, 0.5233, 0.5276],\n",
            "         [0.5320, 0.4163, 0.5278, 0.5320]],\n",
            "\n",
            "        ...,\n",
            "\n",
            "        [[0.5309, 0.4353, 0.5451, 0.5630],\n",
            "         [0.5630, 0.4454, 0.5564, 0.5437]],\n",
            "\n",
            "        [[0.5630, 0.4454, 0.5564, 0.5437],\n",
            "         [0.5437, 0.4414, 0.5359, 0.5615]],\n",
            "\n",
            "        [[0.5437, 0.4414, 0.5359, 0.5615],\n",
            "         [0.5615, 0.4384, 0.5652, 0.5560]]], dtype=torch.float64), tensor([[0],\n",
            "        [0],\n",
            "        [0],\n",
            "        ...,\n",
            "        [1],\n",
            "        [1],\n",
            "        [0]]))\n"
          ]
        }
      ]
    },
    {
      "cell_type": "code",
      "execution_count": 4,
      "outputs": [],
      "source": [
        "from models.my_transformer import TransformerModelImpl\n",
        "from torch.utils.data import DataLoader\n",
        "class hyperparameters:\n",
        "    n_layers = 1\n",
        "    num_heads = 1\n",
        "    model_dim = 4\n",
        "    forward_dim = 16\n",
        "    output_dim = 1\n",
        "    dropout = 3e-4\n",
        "    n_epochs = 100\n",
        "    lr = 0.1 if USE_TRANSFORMER else 0.01\n",
        "    batch_size = 1024\n",
        "\n",
        "modelT = TransformerModelImpl(hyperparameters)\n",
        "train_loader = DataLoader(train_dataset, batch_size=train_dataset.num_samples if REPEAT_ONE_SMALL_BATCH else hyperparameters.batch_size, shuffle=False)#todo while debuggin set to false\n",
        "valid_loader = DataLoader(valid_dataset, batch_size=valid_dataset.num_samples if REPEAT_ONE_SMALL_BATCH else hyperparameters.batch_size, shuffle=False)#todo while debuggin set to false"
      ],
      "metadata": {
        "pycharm": {
          "name": "#%%\n"
        },
        "id": "aROsQr4KI7B5"
      }
    },
    {
      "cell_type": "code",
      "source": [
        "from torch import nn\n",
        "from torch.nn import functional as F\n",
        "class FCNet(nn.Module):\n",
        "  def __init__(self,in_shape):\n",
        "    super(FCNet,self).__init__()\n",
        "    self.fc_layer1 = nn.Linear(in_shape,in_shape*4)\n",
        "    self.fc_layer2 = nn.Linear(in_shape*4,in_shape*8)\n",
        "    self.fc_layer3 = nn.Linear(in_shape*8,1)\n",
        "  def forward(self,x):\n",
        "    #print(x.shape)\n",
        "    x = torch.relu(self.fc_layer1(x))\n",
        "    x = torch.relu(self.fc_layer2(x))\n",
        "    x = self.fc_layer3(x)\n",
        "    return x.reshape(x.shape[0],-1)\n",
        "modelFC = FCNet((train_dataset[:][0].shape[2])*NUM_DAYS)"
      ],
      "metadata": {
        "id": "9WfThZnHDyk3"
      },
      "execution_count": 5,
      "outputs": []
    },
    {
      "cell_type": "markdown",
      "source": [
        "## Training"
      ],
      "metadata": {
        "collapsed": false,
        "pycharm": {
          "name": "#%% md\n"
        },
        "id": "3q-ItwbSI7B5"
      }
    },
    {
      "cell_type": "code",
      "execution_count": 6,
      "outputs": [
        {
          "output_type": "stream",
          "name": "stdout",
          "text": [
            "Epoch 2: Training Loss: 0.6946. Training Acc: 0.3376. Validation Loss: 0.6987. Validation Acc: 0.3059.\n",
            "Epoch 52: Training Loss: 0.6937. Training Acc: 0.3324. Validation Loss: 0.6970. Validation Acc: 0.3059.\n"
          ]
        },
        {
          "output_type": "display_data",
          "data": {
            "text/plain": [
              "<Figure size 432x288 with 1 Axes>"
            ],
            "image/png": "[encoded data removed]"
          },
          "metadata": {
            "needs_background": "light"
          }
        },
        {
          "output_type": "display_data",
          "data": {
            "text/plain": [
              "<Figure size 432x288 with 1 Axes>"
            ],
            "image/png": "[encoded data removed]"
          },
          "metadata": {
            "needs_background": "light"
          }
        }
      ],
      "source": [
        "from utils import plot_curves\n",
        "from utils import train\n",
        "from utils import evaluate\n",
        "import torch\n",
        "from sklearn.exceptions import UndefinedMetricWarning\n",
        "\n",
        "def warn(*args, **kwargs):\n",
        "    pass\n",
        "import warnings\n",
        "warnings.warn = warn\n",
        "\n",
        "model = modelT if USE_TRANSFORMER else modelFC\n",
        "criterion = torch.nn.BCEWithLogitsLoss(reduction='mean')\n",
        "optimizer = torch.optim.Adam(model.parameters(), lr=hyperparameters.lr)\n",
        "#scheduler = torch.optim.lr_scheduler.ReduceLROnPlateau(optimizer)\n",
        "#scheduler = torch.optim.lr_scheduler.StepLR(optimizer, step_size=30, gamma=1)#constant\n",
        "scheduler = torch.optim.lr_scheduler.StepLR(optimizer, step_size=10, gamma=0.9)\n",
        "#scheduler = torch.optim.lr_scheduler.ExponentialLR(optimizer, gamma=0.9)\n",
        "\n",
        "avg_train_loss,avg_train_acc,avg_valid_loss,avg_valid_acc=[],[],[],[]\n",
        "model.float()\n",
        "for epoch in range(hyperparameters.n_epochs):\n",
        "    train_loss, atl, ata = train(model, train_loader, optimizer, criterion)\n",
        "    scheduler.step(train_loss)\n",
        "    _, avl, ava = evaluate(model, valid_loader, criterion)\n",
        "    if epoch%50==1:\n",
        "      print(\"Epoch %d: Training Loss: %.4f. Training Acc: %.4f. Validation Loss: %.4f. Validation Acc: %.4f.\" % (epoch+1, atl, ata, avl, ava))\n",
        "    avg_train_loss.append(atl.item())\n",
        "    avg_train_acc.append(ata)\n",
        "    avg_valid_loss.append(avl.item())\n",
        "    avg_valid_acc.append(ava)\n",
        "plot_curves(avg_train_loss,avg_train_acc,avg_valid_loss,avg_valid_acc, info='', save=False)   \n",
        " "
      ],
      "metadata": {
        "pycharm": {
          "name": "#%%\n"
        },
        "colab": {
          "base_uri": "https://localhost:8080/",
          "height": 607
        },
        "id": "vBC0IgBjI7B6",
        "outputId": "e86dca13-7028-4787-b7f2-60e9080cde4f"
      }
    },
    {
      "cell_type": "code",
      "source": [
        "\n",
        "a,b=train_dataset[:]\n",
        "print(a.shape)\n",
        "print(b.shape)\n",
        "print(b)"
      ],
      "metadata": {
        "colab": {
          "base_uri": "https://localhost:8080/"
        },
        "id": "70Dz7C-d0UI7",
        "outputId": "3ca2f3aa-af4c-43eb-f7af-3f8293d1aeca"
      },
      "execution_count": 7,
      "outputs": [
        {
          "output_type": "stream",
          "name": "stdout",
          "text": [
            "torch.Size([14090, 2, 4])\n",
            "torch.Size([14090, 1])\n",
            "tensor([[0],\n",
            "        [0],\n",
            "        [0],\n",
            "        ...,\n",
            "        [1],\n",
            "        [1],\n",
            "        [0]])\n"
          ]
        }
      ]
    },
    {
      "cell_type": "markdown",
      "source": [
        "## Validating Predictions"
      ],
      "metadata": {
        "collapsed": false,
        "pycharm": {
          "name": "#%% md\n"
        },
        "id": "wtrEo-8NI7B6"
      }
    },
    {
      "cell_type": "code",
      "execution_count": 8,
      "outputs": [
        {
          "output_type": "stream",
          "name": "stdout",
          "text": [
            "0.3894901440953791\n"
          ]
        }
      ],
      "source": [
        "from sklearn.metrics import f1_score\n",
        "from sklearn.metrics import classification_report\n",
        "model.eval()\n",
        "features, targets = test_dataset[:]\n",
        "predictions = model(features.float())\n",
        "pred=torch.round(torch.sigmoid(predictions)).long()\n",
        "print(classification_report(targets.detach().numpy(), pred.detach().numpy(), output_dict=True)['weighted avg']['f1-score'])"
      ],
      "metadata": {
        "pycharm": {
          "name": "#%%\n"
        },
        "id": "ex-TS46DI7B6",
        "colab": {
          "base_uri": "https://localhost:8080/"
        },
        "outputId": "f2c26313-ec74-484b-a27e-392dff236968"
      }
    },
    {
      "cell_type": "markdown",
      "source": [
        "## TODO"
      ],
      "metadata": {
        "collapsed": false,
        "pycharm": {
          "name": "#%% md\n"
        },
        "id": "tcX2mjMMI7B8"
      }
    },
    {
      "cell_type": "code",
      "execution_count": 9,
      "outputs": [],
      "source": [
        "# 1. Review/Fix Transformer Implementation\n",
        "# 2. Review/Fix Training and Testing\n",
        "# 3. Review/Fix Predictions with Tensors\n",
        "# 4. Implement Accuracy\n",
        "# 5. Implement Charting\n",
        "# 6. Experimentation"
      ],
      "metadata": {
        "pycharm": {
          "name": "#%%\n"
        },
        "id": "V-sBVVEII7B8"
      }
    }
  ],
  "metadata": {
    "colab": {
      "collapsed_sections": [],
      "name": "exp1.ipynb",
      "provenance": [],
      "machine_shape": "hm"
    },
    "kernelspec": {
      "display_name": "Python 3 (ipykernel)",
      "language": "python",
      "name": "python3"
    },
    "language_info": {
      "codemirror_mode": {
        "name": "ipython",
        "version": 3
      },
      "file_extension": ".py",
      "mimetype": "text/x-python",
      "name": "python",
      "nbconvert_exporter": "python",
      "pygments_lexer": "ipython3",
      "version": "3.9.5"
    },
    "accelerator": "GPU"
  },
  "nbformat": 4,
  "nbformat_minor": 0
}